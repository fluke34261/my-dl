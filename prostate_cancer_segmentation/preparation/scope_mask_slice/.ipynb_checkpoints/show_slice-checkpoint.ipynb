{
 "cells": [
  {
   "cell_type": "code",
   "execution_count": 3,
   "id": "46314636",
   "metadata": {},
   "outputs": [],
   "source": [
    "import sys\n",
    "import glob\n",
    "import json\n",
    "import cv2\n",
    "import shutil\n",
    "import numpy as np\n",
    "import pandas as pd\n",
    "from glob import glob\n",
    "from tqdm import tqdm\n",
    "import SimpleITK as sitk\n",
    "from medpy.io import load\n",
    "from itertools import chain\n",
    "import matplotlib.pyplot as plt"
   ]
  },
  {
   "cell_type": "code",
   "execution_count": 4,
   "id": "5d35fb43",
   "metadata": {},
   "outputs": [
    {
     "name": "stdout",
     "output_type": "stream",
     "text": [
      "/home/kodiak/DeepLearning/my-dl/prostate_cancer_segmentation/preparation/scope_mask_slice\r\n"
     ]
    }
   ],
   "source": [
    "!pwd"
   ]
  },
  {
   "cell_type": "code",
   "execution_count": 19,
   "id": "67390730",
   "metadata": {},
   "outputs": [
    {
     "data": {
      "text/plain": [
       "['./sequence_images/10021_1000021_0000.nii.gz',\n",
       " './sequence_images/10021_1000021_0001.nii.gz',\n",
       " './sequence_images/10021_1000021_0002.nii.gz']"
      ]
     },
     "execution_count": 19,
     "metadata": {},
     "output_type": "execute_result"
    }
   ],
   "source": [
    "file_list = sorted(glob('./sequence_images/10021_1000021*'))\n",
    "file_list"
   ]
  },
  {
   "cell_type": "code",
   "execution_count": 20,
   "id": "114d7e35",
   "metadata": {},
   "outputs": [],
   "source": [
    "def load_image(path_nii):\n",
    "    image_data, image_header = load(path_nii)\n",
    "    image_sitk = image_header.get_sitkimage()\n",
    "    image_direction = image_header.get_direction()\n",
    "    image_offset = image_header.get_offset()\n",
    "    image_voxel_spacing = image_header.get_voxel_spacing()\n",
    "    return image_data, image_sitk, image_header"
   ]
  },
  {
   "cell_type": "code",
   "execution_count": 21,
   "id": "c782ee34",
   "metadata": {},
   "outputs": [
    {
     "name": "stdout",
     "output_type": "stream",
     "text": [
      "(9, 384, 384)\n",
      "(9, 384, 384)\n",
      "(9, 384, 384)\n"
     ]
    }
   ],
   "source": [
    "for f_lbl in file_list:\n",
    "    lbl, _, _ = load_image(f_lbl)\n",
    "    print(lbl.shape)"
   ]
  },
  {
   "cell_type": "code",
   "execution_count": 8,
   "id": "0d7609a5",
   "metadata": {},
   "outputs": [
    {
     "name": "stdout",
     "output_type": "stream",
     "text": [
      "(384, 384)\n"
     ]
    },
    {
     "ename": "IndexError",
     "evalue": "tuple index out of range",
     "output_type": "error",
     "traceback": [
      "\u001b[0;31m---------------------------------------------------------------------------\u001b[0m",
      "\u001b[0;31mIndexError\u001b[0m                                Traceback (most recent call last)",
      "Cell \u001b[0;32mIn[8], line 9\u001b[0m\n\u001b[1;32m      6\u001b[0m im2, _, _ \u001b[38;5;241m=\u001b[39m load_image(f_img \u001b[38;5;241m+\u001b[39m \u001b[38;5;124m'\u001b[39m\u001b[38;5;124m_0001.nii.gz\u001b[39m\u001b[38;5;124m'\u001b[39m)\n\u001b[1;32m      7\u001b[0m im3, _, _ \u001b[38;5;241m=\u001b[39m load_image(f_img \u001b[38;5;241m+\u001b[39m \u001b[38;5;124m'\u001b[39m\u001b[38;5;124m_0002.nii.gz\u001b[39m\u001b[38;5;124m'\u001b[39m)\n\u001b[0;32m----> 9\u001b[0m \u001b[38;5;28;01massert\u001b[39;00m (\u001b[43mlbl\u001b[49m\u001b[38;5;241;43m.\u001b[39;49m\u001b[43mshape\u001b[49m\u001b[43m[\u001b[49m\u001b[38;5;241;43m2\u001b[39;49m\u001b[43m]\u001b[49m\u001b[38;5;241m==\u001b[39mim1\u001b[38;5;241m.\u001b[39mshape[\u001b[38;5;241m2\u001b[39m])\u001b[38;5;241m&\u001b[39m(im1\u001b[38;5;241m.\u001b[39mshape\u001b[38;5;241m==\u001b[39mim2\u001b[38;5;241m.\u001b[39mshape)\u001b[38;5;241m&\u001b[39m(im2\u001b[38;5;241m.\u001b[39mshape\u001b[38;5;241m==\u001b[39mim3\u001b[38;5;241m.\u001b[39mshape)\n\u001b[1;32m     11\u001b[0m \u001b[38;5;28mprint\u001b[39m(im1\u001b[38;5;241m.\u001b[39mshape)\n\u001b[1;32m     12\u001b[0m \u001b[38;5;28mprint\u001b[39m(im2\u001b[38;5;241m.\u001b[39mshape)\n",
      "\u001b[0;31mIndexError\u001b[0m: tuple index out of range"
     ]
    }
   ],
   "source": [
    "for f_lbl in file_list:\n",
    "    lbl, _, _ = load_image(f_lbl)\n",
    "    print(lbl.shape)\n",
    "    f_img = f_lbl.replace('sequence_labels','sequence_images').replace('.nii.gz','')\n",
    "    im1, _, _ = load_image(f_img + '_0000.nii.gz')\n",
    "    im2, _, _ = load_image(f_img + '_0001.nii.gz')\n",
    "    im3, _, _ = load_image(f_img + '_0002.nii.gz')\n",
    "    \n",
    "    assert (lbl.shape[2]==im1.shape[2])&(im1.shape==im2.shape)&(im2.shape==im3.shape)\n",
    "    \n",
    "    print(im1.shape)\n",
    "    print(im2.shape)\n",
    "    print(im3.shape)\n",
    "    \n",
    "    n_img = im1.shape[2]\n",
    "    fig = plt.figure(figsize=(20,5*n_img))\n",
    "    fnm = f_lbl.split('/')[-1].split('.')[0]\n",
    "    for i in range(n_img):\n",
    "        plt.subplot(n_img,4,i*4+1)\n",
    "        plt.imshow(lbl[:,:,i], cmap='jet')\n",
    "        plt.xticks([]), plt.yticks([])\n",
    "        if i == 0:\n",
    "            plt.title(f'{fnm}\\nLabel')\n",
    "\n",
    "        plt.subplot(n_img,4,i*4+2)\n",
    "        plt.imshow(im1[:,:,i], cmap='jet')\n",
    "        plt.xticks([]), plt.yticks([])\n",
    "        if i == 0:\n",
    "            plt.title(f'{fnm}\\nT2W')\n",
    "\n",
    "        plt.subplot(n_img,4,i*4+3)\n",
    "        plt.imshow(im2[:,:,i], cmap='jet')\n",
    "        plt.xticks([]), plt.yticks([])\n",
    "        if i == 0:\n",
    "            plt.title(f'{fnm}\\nADC')\n",
    "\n",
    "        plt.subplot(n_img,4,i*4+4)\n",
    "        \n",
    "        # Create a CLAHE object\n",
    "        clahe = cv2.createCLAHE(clipLimit=2.0, tileGridSize=(8, 8))\n",
    "        # Apply CLAHE\n",
    "        new_dwi = clahe.apply(im3[:,:,i])\n",
    "        \n",
    "        plt.imshow(new_dwi, cmap='jet')\n",
    "        plt.xticks([]), plt.yticks([])\n",
    "        if i == 0:\n",
    "            plt.title(f'{fnm}\\nDWI')\n",
    "\n",
    "    fig.tight_layout(pad=1)"
   ]
  },
  {
   "cell_type": "code",
   "execution_count": null,
   "id": "248ffba4",
   "metadata": {},
   "outputs": [],
   "source": []
  }
 ],
 "metadata": {
  "kernelspec": {
   "display_name": "Python 3 (ipykernel)",
   "language": "python",
   "name": "python3"
  },
  "language_info": {
   "codemirror_mode": {
    "name": "ipython",
    "version": 3
   },
   "file_extension": ".py",
   "mimetype": "text/x-python",
   "name": "python",
   "nbconvert_exporter": "python",
   "pygments_lexer": "ipython3",
   "version": "3.10.12"
  }
 },
 "nbformat": 4,
 "nbformat_minor": 5
}
