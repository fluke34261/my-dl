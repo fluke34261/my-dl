{
 "cells": [
  {
   "cell_type": "code",
   "execution_count": 1,
   "id": "f1b6e443",
   "metadata": {},
   "outputs": [],
   "source": [
    "import numpy as np\n",
    "import nibabel as nib\n",
    "import glob as glob\n",
    "import shutil\n",
    "import re"
   ]
  },
  {
   "cell_type": "code",
   "execution_count": 2,
   "id": "072b36f4",
   "metadata": {},
   "outputs": [],
   "source": [
    "mask_label_path = './mask_labels/'\n",
    "mask_image_path = './mask_images/'\n",
    "\n",
    "sequence_label_path = './sequence_labels/'\n",
    "sequence_image_path = './sequence_images/'"
   ]
  },
  {
   "cell_type": "code",
   "execution_count": 3,
   "id": "6388b596",
   "metadata": {},
   "outputs": [],
   "source": [
    "def num_sort(test_string):\n",
    "    return list(map(int, re.findall(r'\\d+$', test_string.replace('.nii.gz', ''))))[0]"
   ]
  },
  {
   "cell_type": "code",
   "execution_count": 27,
   "id": "b497fd54",
   "metadata": {},
   "outputs": [],
   "source": [
    "def saveNifti(list_slice, cases):\n",
    "    # Load all the NIfTI files and extract image data\n",
    "    nifti_data = []\n",
    "    for file_name in list_slice:\n",
    "        img = nib.load(file_name)\n",
    "        nifti_data.append(img.get_fdata())\n",
    "    \n",
    "    merged_data = np.stack(nifti_data, axis=1)\n",
    "    \n",
    "    # Create a new NIfTI image with the merged data\n",
    "    merged_img = nib.Nifti1Image(merged_data, img.affine)\n",
    "    \n",
    "    # Save the merged NIfTI image as a .nii.gz file\n",
    "    nib.save(merged_img, cases)"
   ]
  },
  {
   "cell_type": "code",
   "execution_count": 28,
   "id": "822503ed",
   "metadata": {},
   "outputs": [],
   "source": [
    "list_labels = sorted(glob.glob(mask_label_path + '*'))\n",
    "\n",
    "# group Label\n",
    "label_cases = []\n",
    "for index, file in enumerate(list_labels):\n",
    "    case = file.replace(mask_label_path,'')[:13]\n",
    "    # image_slice = file.replace(mask_label_path,'')[13+1:]\n",
    "    label_cases.append(case)\n",
    "    \n",
    "for index, case in enumerate(set(label_cases)):\n",
    "    slice_in_case = glob.glob(mask_label_path + case + '*')\n",
    "    slice_sorted = sorted(slice_in_case, key=lambda x: int(''.join(filter(str.isdigit, x))))\n",
    "    saveNifti(slice_sorted, sequence_label_path + case + '.nii.gz')"
   ]
  },
  {
   "cell_type": "code",
   "execution_count": 29,
   "id": "736d17c2",
   "metadata": {},
   "outputs": [],
   "source": [
    "list_images = sorted(glob.glob(mask_image_path + '*'))\n",
    "\n",
    "# group Label\n",
    "image_cases = []\n",
    "for index, file in enumerate(list_images):\n",
    "    case = file.replace(mask_image_path,'')[:18]\n",
    "    # image_slice = file.replace(mask_image_path,'')[18+1:]\n",
    "    image_cases.append(case)\n",
    "    \n",
    "for index, case in enumerate(set(image_cases)):\n",
    "    slice_in_case = glob.glob(mask_image_path + case + '*')\n",
    "    slice_sorted = sorted(slice_in_case, key=lambda x: int(''.join(filter(str.isdigit, x))))\n",
    "    saveNifti(slice_sorted, sequence_image_path + case + '.nii.gz')"
   ]
  },
  {
   "cell_type": "code",
   "execution_count": null,
   "id": "d9257baf",
   "metadata": {},
   "outputs": [],
   "source": []
  }
 ],
 "metadata": {
  "kernelspec": {
   "display_name": "Python 3 (ipykernel)",
   "language": "python",
   "name": "python3"
  },
  "language_info": {
   "codemirror_mode": {
    "name": "ipython",
    "version": 3
   },
   "file_extension": ".py",
   "mimetype": "text/x-python",
   "name": "python",
   "nbconvert_exporter": "python",
   "pygments_lexer": "ipython3",
   "version": "3.10.12"
  }
 },
 "nbformat": 4,
 "nbformat_minor": 5
}
