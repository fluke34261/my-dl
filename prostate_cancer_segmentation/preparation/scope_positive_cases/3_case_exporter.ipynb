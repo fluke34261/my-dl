{
 "cells": [
  {
   "cell_type": "code",
   "execution_count": 6,
   "id": "e2673608",
   "metadata": {},
   "outputs": [],
   "source": [
    "import sys\n",
    "import glob\n",
    "import json\n",
    "import cv2\n",
    "import shutil\n",
    "import numpy as np\n",
    "import pandas as pd\n",
    "from glob import glob\n",
    "from tqdm import tqdm\n",
    "import SimpleITK as sitk\n",
    "from medpy.io import load\n",
    "from itertools import chain\n",
    "import matplotlib.pyplot as plt\n",
    "import matplotlib.image"
   ]
  },
  {
   "cell_type": "code",
   "execution_count": 7,
   "id": "89ea4952-93c5-4660-982e-4e14851884c8",
   "metadata": {},
   "outputs": [
    {
     "data": {
      "text/html": [
       "<div>\n",
       "<style scoped>\n",
       "    .dataframe tbody tr th:only-of-type {\n",
       "        vertical-align: middle;\n",
       "    }\n",
       "\n",
       "    .dataframe tbody tr th {\n",
       "        vertical-align: top;\n",
       "    }\n",
       "\n",
       "    .dataframe thead th {\n",
       "        text-align: right;\n",
       "    }\n",
       "</style>\n",
       "<table border=\"1\" class=\"dataframe\">\n",
       "  <thead>\n",
       "    <tr style=\"text-align: right;\">\n",
       "      <th></th>\n",
       "      <th>case</th>\n",
       "      <th>is_use</th>\n",
       "    </tr>\n",
       "  </thead>\n",
       "  <tbody>\n",
       "    <tr>\n",
       "      <th>0</th>\n",
       "      <td>cases/labels/10005_1000005.nii.gz</td>\n",
       "      <td>1</td>\n",
       "    </tr>\n",
       "    <tr>\n",
       "      <th>1</th>\n",
       "      <td>cases/labels/10021_1000021.nii.gz</td>\n",
       "      <td>1</td>\n",
       "    </tr>\n",
       "    <tr>\n",
       "      <th>2</th>\n",
       "      <td>cases/labels/10032_1000032.nii.gz</td>\n",
       "      <td>1</td>\n",
       "    </tr>\n",
       "    <tr>\n",
       "      <th>3</th>\n",
       "      <td>cases/labels/10043_1000043.nii.gz</td>\n",
       "      <td>1</td>\n",
       "    </tr>\n",
       "    <tr>\n",
       "      <th>4</th>\n",
       "      <td>cases/labels/10048_1000048.nii.gz</td>\n",
       "      <td>1</td>\n",
       "    </tr>\n",
       "    <tr>\n",
       "      <th>...</th>\n",
       "      <td>...</td>\n",
       "      <td>...</td>\n",
       "    </tr>\n",
       "    <tr>\n",
       "      <th>83</th>\n",
       "      <td>cases/labels/11428_1001452.nii.gz</td>\n",
       "      <td>1</td>\n",
       "    </tr>\n",
       "    <tr>\n",
       "      <th>85</th>\n",
       "      <td>cases/labels/11444_1001468.nii.gz</td>\n",
       "      <td>1</td>\n",
       "    </tr>\n",
       "    <tr>\n",
       "      <th>86</th>\n",
       "      <td>cases/labels/11447_1001471.nii.gz</td>\n",
       "      <td>1</td>\n",
       "    </tr>\n",
       "    <tr>\n",
       "      <th>87</th>\n",
       "      <td>cases/labels/11462_1001486.nii.gz</td>\n",
       "      <td>1</td>\n",
       "    </tr>\n",
       "    <tr>\n",
       "      <th>88</th>\n",
       "      <td>cases/labels/11475_1001499.nii.gz</td>\n",
       "      <td>1</td>\n",
       "    </tr>\n",
       "  </tbody>\n",
       "</table>\n",
       "<p>65 rows × 2 columns</p>\n",
       "</div>"
      ],
      "text/plain": [
       "                                 case  is_use\n",
       "0   cases/labels/10005_1000005.nii.gz       1\n",
       "1   cases/labels/10021_1000021.nii.gz       1\n",
       "2   cases/labels/10032_1000032.nii.gz       1\n",
       "3   cases/labels/10043_1000043.nii.gz       1\n",
       "4   cases/labels/10048_1000048.nii.gz       1\n",
       "..                                ...     ...\n",
       "83  cases/labels/11428_1001452.nii.gz       1\n",
       "85  cases/labels/11444_1001468.nii.gz       1\n",
       "86  cases/labels/11447_1001471.nii.gz       1\n",
       "87  cases/labels/11462_1001486.nii.gz       1\n",
       "88  cases/labels/11475_1001499.nii.gz       1\n",
       "\n",
       "[65 rows x 2 columns]"
      ]
     },
     "execution_count": 7,
     "metadata": {},
     "output_type": "execute_result"
    }
   ],
   "source": [
    "columns = ['case','is_use']\n",
    "positive_case = pd.read_csv('./cases/positive_case.csv', header=None, names=columns)\n",
    "positive_case = positive_case[positive_case[\"is_use\"] == 1]\n",
    "positive_case[\"case\"] = \"cases/labels/\" + positive_case[\"case\"] + \".nii.gz\"\n",
    "positive_case"
   ]
  },
  {
   "cell_type": "code",
   "execution_count": 8,
   "id": "a637cf16",
   "metadata": {},
   "outputs": [],
   "source": [
    "file_list = sorted(glob('cases/labels/10021_1000021.nii.gz'))"
   ]
  },
  {
   "cell_type": "code",
   "execution_count": 9,
   "id": "1a292105-8604-486a-83fb-19fbe3f95398",
   "metadata": {},
   "outputs": [],
   "source": [
    "file_list = []\n",
    "for i in range(len(positive_case)):\n",
    "    file_list.append(positive_case.iloc[i, 0])"
   ]
  },
  {
   "cell_type": "code",
   "execution_count": 10,
   "id": "5081e3b7",
   "metadata": {},
   "outputs": [],
   "source": [
    "def load_image(path_nii):\n",
    "    image_data, image_header = load(path_nii)\n",
    "    image_sitk = image_header.get_sitkimage()\n",
    "    image_direction = image_header.get_direction()\n",
    "    image_offset = image_header.get_offset()\n",
    "    image_voxel_spacing = image_header.get_voxel_spacing()\n",
    "    return image_data, image_sitk, image_header"
   ]
  },
  {
   "cell_type": "code",
   "execution_count": 15,
   "id": "f9d27402-b026-484e-b906-787331636233",
   "metadata": {},
   "outputs": [
    {
     "name": "stdout",
     "output_type": "stream",
     "text": [
      "working in cases/images/10005_1000005\n",
      "working in cases/images/10021_1000021\n",
      "working in cases/images/10032_1000032\n",
      "working in cases/images/10043_1000043\n",
      "working in cases/images/10048_1000048\n",
      "working in cases/images/10078_1000078\n",
      "working in cases/images/10079_1000079\n",
      "working in cases/images/10085_1000085\n",
      "working in cases/images/10117_1000117\n",
      "working in cases/images/10118_1000118\n",
      "working in cases/images/10211_1000215\n",
      "working in cases/images/10216_1000220\n",
      "working in cases/images/10268_1000272\n",
      "working in cases/images/10322_1000328\n",
      "working in cases/images/10339_1000345\n",
      "working in cases/images/10340_1000346\n",
      "working in cases/images/10368_1000374\n",
      "working in cases/images/10434_1000442\n",
      "working in cases/images/10451_1000459\n",
      "working in cases/images/10463_1000471\n",
      "working in cases/images/10503_1000512\n",
      "working in cases/images/10523_1000533\n",
      "working in cases/images/10558_1000570\n",
      "working in cases/images/10570_1000582\n",
      "working in cases/images/10607_1000621\n",
      "working in cases/images/10635_1000651\n",
      "working in cases/images/10688_1000704\n",
      "working in cases/images/10699_1000715\n",
      "working in cases/images/10730_1000746\n",
      "working in cases/images/10825_1000841\n",
      "working in cases/images/10833_1000849\n",
      "working in cases/images/10842_1000858\n",
      "working in cases/images/10911_1000928\n",
      "working in cases/images/10942_1000961\n",
      "working in cases/images/10957_1000976\n",
      "working in cases/images/10968_1000987\n",
      "working in cases/images/11002_1001021\n",
      "working in cases/images/11041_1001061\n",
      "working in cases/images/11051_1001071\n",
      "working in cases/images/11063_1001085\n",
      "working in cases/images/11074_1001096\n",
      "working in cases/images/11080_1001102\n",
      "working in cases/images/11102_1001125\n",
      "working in cases/images/11122_1001145\n",
      "working in cases/images/11130_1001153\n",
      "working in cases/images/11155_1001178\n",
      "working in cases/images/11163_1001186\n",
      "working in cases/images/11165_1001188\n",
      "working in cases/images/11181_1001204\n",
      "working in cases/images/11185_1001208\n",
      "working in cases/images/11194_1001217\n",
      "working in cases/images/11231_1001254\n",
      "working in cases/images/11253_1001276\n",
      "working in cases/images/11256_1001279\n",
      "working in cases/images/11269_1001292\n",
      "working in cases/images/11299_1001322\n",
      "working in cases/images/11357_1001380\n",
      "working in cases/images/11373_1001396\n",
      "working in cases/images/11375_1001398\n",
      "working in cases/images/11384_1001408\n",
      "working in cases/images/11428_1001452\n",
      "working in cases/images/11444_1001468\n",
      "working in cases/images/11447_1001471\n",
      "working in cases/images/11462_1001486\n",
      "working in cases/images/11475_1001499\n",
      "done\n"
     ]
    }
   ],
   "source": [
    "# export only dwi file and label\n",
    "\n",
    "threshold = 0\n",
    "\n",
    "for f_lbl in file_list:    \n",
    "    lbl, _, _ = load_image(f_lbl)\n",
    "    f_img = f_lbl.replace('labels','images').replace('.nii.gz','')\n",
    "    \n",
    "    print(\"working in \" + f_img)\n",
    "    \n",
    "    im2, _, _ = load_image(f_img + '_0002.nii.gz') # dwi - hbv\n",
    "    assert (lbl.shape[2] == im2.shape[2])\n",
    "    \n",
    "    for index in range(1, lbl.shape[2]):\n",
    "        \"\"\" Save ADC HBV T2W Label from numpy array \"\"\"\n",
    "        matplotlib.image.imsave( './export_dwi/' + f_img.replace(\"cases/images/\", \"\") + '_dwi_' + str(index).rjust(2, '0') +'.jpg', im2[:,:,index], cmap='jet')\n",
    "#         convert_grayscale = np.where(lbl[:,:,index] > threshold, True, False)\n",
    "#         matplotlib.image.imsave( './export_mask/' + f_lbl.replace(\"cases/labels/\", \"\").replace('.nii.gz',\"\") + \"_dwi_\" + str(index).rjust(2, '0') + \"_mask\" + '.gif', convert_grayscale, cmap='gray')\n",
    "        #break\n",
    "    #break\n",
    "print(\"done\")"
   ]
  },
  {
   "cell_type": "code",
   "execution_count": 17,
   "id": "1413c949-7e1e-4687-a2fb-7cc4cbb8c816",
   "metadata": {},
   "outputs": [
    {
     "data": {
      "text/plain": [
       "array([False])"
      ]
     },
     "execution_count": 17,
     "metadata": {},
     "output_type": "execute_result"
    }
   ],
   "source": [
    "np.unique(convert_grayscale)"
   ]
  },
  {
   "cell_type": "code",
   "execution_count": 22,
   "id": "09bbb001-60c9-4557-8ddc-b66e64839442",
   "metadata": {},
   "outputs": [],
   "source": [
    "!rm -f /media/mpmri/mpmri/Pytorch-UNet/data/imgs/*\n",
    "!cp /media/mpmri/mpmri/code_isup/export_dwi/*dwi* /media/mpmri/mpmri/Pytorch-UNet/data/imgs/"
   ]
  },
  {
   "cell_type": "code",
   "execution_count": 23,
   "id": "d7d59da4-6aa4-4aa2-b90d-037191191a65",
   "metadata": {},
   "outputs": [],
   "source": [
    "!rm -f /media/mpmri/mpmri/Pytorch-UNet/data/masks/*\n",
    "!cp /media/mpmri/mpmri/code_isup/export_mask/*_mask* /media/mpmri/mpmri/Pytorch-UNet/data/masks"
   ]
  }
 ],
 "metadata": {
  "kernelspec": {
   "display_name": "Python 3 (ipykernel)",
   "language": "python",
   "name": "python3"
  },
  "language_info": {
   "codemirror_mode": {
    "name": "ipython",
    "version": 3
   },
   "file_extension": ".py",
   "mimetype": "text/x-python",
   "name": "python",
   "nbconvert_exporter": "python",
   "pygments_lexer": "ipython3",
   "version": "3.10.6"
  }
 },
 "nbformat": 4,
 "nbformat_minor": 5
}
