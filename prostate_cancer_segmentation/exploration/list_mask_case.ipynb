{
 "cells": [
  {
   "cell_type": "code",
   "execution_count": 107,
   "id": "320f7b2c",
   "metadata": {},
   "outputs": [],
   "source": [
    "import glob as glob\n",
    "import pandas as pd"
   ]
  },
  {
   "cell_type": "code",
   "execution_count": 108,
   "id": "60eede76",
   "metadata": {},
   "outputs": [],
   "source": [
    "extract_path = \"../extract_data/\""
   ]
  },
  {
   "cell_type": "code",
   "execution_count": 109,
   "id": "de269e5d",
   "metadata": {},
   "outputs": [],
   "source": [
    "labels = sorted(glob.glob(extract_path + \"labels/*\"))\n",
    "images = sorted(glob.glob(extract_path + \"images/*\"))"
   ]
  },
  {
   "cell_type": "code",
   "execution_count": 110,
   "id": "b329fbd7",
   "metadata": {},
   "outputs": [],
   "source": [
    "def getNameFromLabel(label_file):\n",
    "    name = label_file.replace(extract_path + \"labels/\", \"\").replace(\".nii.gz\", \"\")\n",
    "    return name"
   ]
  },
  {
   "cell_type": "code",
   "execution_count": 111,
   "id": "ffd6d69e",
   "metadata": {},
   "outputs": [],
   "source": [
    "def getImagesByName(name):\n",
    "    images = sorted(glob.glob(extract_path + \"images/\" + name + \"*\"))\n",
    "    new_names = []                \n",
    "    for image in images:\n",
    "        new_names.append(\n",
    "            image.replace(extract_path + \"images/\", \"\").replace(\".nii.gz\", \"\")\n",
    "        )\n",
    "                    \n",
    "    return new_names"
   ]
  },
  {
   "cell_type": "markdown",
   "id": "ee5f2b67",
   "metadata": {},
   "source": [
    "0000 = T2W\n",
    "0001 = ADC\n",
    "0002 = DWI"
   ]
  },
  {
   "cell_type": "code",
   "execution_count": 112,
   "id": "e42039a6",
   "metadata": {},
   "outputs": [
    {
     "data": {
      "text/html": [
       "<div>\n",
       "<style scoped>\n",
       "    .dataframe tbody tr th:only-of-type {\n",
       "        vertical-align: middle;\n",
       "    }\n",
       "\n",
       "    .dataframe tbody tr th {\n",
       "        vertical-align: top;\n",
       "    }\n",
       "\n",
       "    .dataframe thead th {\n",
       "        text-align: right;\n",
       "    }\n",
       "</style>\n",
       "<table border=\"1\" class=\"dataframe\">\n",
       "  <thead>\n",
       "    <tr style=\"text-align: right;\">\n",
       "      <th></th>\n",
       "      <th>label</th>\n",
       "      <th>T2W</th>\n",
       "      <th>ADC</th>\n",
       "      <th>DWI</th>\n",
       "    </tr>\n",
       "  </thead>\n",
       "  <tbody>\n",
       "    <tr>\n",
       "      <th>0</th>\n",
       "      <td>10005_1000005</td>\n",
       "      <td>10005_1000005_0000</td>\n",
       "      <td>10005_1000005_0001</td>\n",
       "      <td>10005_1000005_0002</td>\n",
       "    </tr>\n",
       "    <tr>\n",
       "      <th>1</th>\n",
       "      <td>10021_1000021</td>\n",
       "      <td>10021_1000021_0000</td>\n",
       "      <td>10021_1000021_0001</td>\n",
       "      <td>10021_1000021_0002</td>\n",
       "    </tr>\n",
       "    <tr>\n",
       "      <th>2</th>\n",
       "      <td>10032_1000032</td>\n",
       "      <td>10032_1000032_0000</td>\n",
       "      <td>10032_1000032_0001</td>\n",
       "      <td>10032_1000032_0002</td>\n",
       "    </tr>\n",
       "    <tr>\n",
       "      <th>3</th>\n",
       "      <td>10043_1000043</td>\n",
       "      <td>10043_1000043_0000</td>\n",
       "      <td>10043_1000043_0001</td>\n",
       "      <td>10043_1000043_0002</td>\n",
       "    </tr>\n",
       "    <tr>\n",
       "      <th>4</th>\n",
       "      <td>10048_1000048</td>\n",
       "      <td>10048_1000048_0000</td>\n",
       "      <td>10048_1000048_0001</td>\n",
       "      <td>10048_1000048_0002</td>\n",
       "    </tr>\n",
       "    <tr>\n",
       "      <th>...</th>\n",
       "      <td>...</td>\n",
       "      <td>...</td>\n",
       "      <td>...</td>\n",
       "      <td>...</td>\n",
       "    </tr>\n",
       "    <tr>\n",
       "      <th>84</th>\n",
       "      <td>11442_1001466</td>\n",
       "      <td>11442_1001466_0000</td>\n",
       "      <td>11442_1001466_0001</td>\n",
       "      <td>11442_1001466_0002</td>\n",
       "    </tr>\n",
       "    <tr>\n",
       "      <th>85</th>\n",
       "      <td>11444_1001468</td>\n",
       "      <td>11444_1001468_0000</td>\n",
       "      <td>11444_1001468_0001</td>\n",
       "      <td>11444_1001468_0002</td>\n",
       "    </tr>\n",
       "    <tr>\n",
       "      <th>86</th>\n",
       "      <td>11447_1001471</td>\n",
       "      <td>11447_1001471_0000</td>\n",
       "      <td>11447_1001471_0001</td>\n",
       "      <td>11447_1001471_0002</td>\n",
       "    </tr>\n",
       "    <tr>\n",
       "      <th>87</th>\n",
       "      <td>11462_1001486</td>\n",
       "      <td>11462_1001486_0000</td>\n",
       "      <td>11462_1001486_0001</td>\n",
       "      <td>11462_1001486_0002</td>\n",
       "    </tr>\n",
       "    <tr>\n",
       "      <th>88</th>\n",
       "      <td>11475_1001499</td>\n",
       "      <td>11475_1001499_0000</td>\n",
       "      <td>11475_1001499_0001</td>\n",
       "      <td>11475_1001499_0002</td>\n",
       "    </tr>\n",
       "  </tbody>\n",
       "</table>\n",
       "<p>89 rows × 4 columns</p>\n",
       "</div>"
      ],
      "text/plain": [
       "            label                 T2W                 ADC                 DWI\n",
       "0   10005_1000005  10005_1000005_0000  10005_1000005_0001  10005_1000005_0002\n",
       "1   10021_1000021  10021_1000021_0000  10021_1000021_0001  10021_1000021_0002\n",
       "2   10032_1000032  10032_1000032_0000  10032_1000032_0001  10032_1000032_0002\n",
       "3   10043_1000043  10043_1000043_0000  10043_1000043_0001  10043_1000043_0002\n",
       "4   10048_1000048  10048_1000048_0000  10048_1000048_0001  10048_1000048_0002\n",
       "..            ...                 ...                 ...                 ...\n",
       "84  11442_1001466  11442_1001466_0000  11442_1001466_0001  11442_1001466_0002\n",
       "85  11444_1001468  11444_1001468_0000  11444_1001468_0001  11444_1001468_0002\n",
       "86  11447_1001471  11447_1001471_0000  11447_1001471_0001  11447_1001471_0002\n",
       "87  11462_1001486  11462_1001486_0000  11462_1001486_0001  11462_1001486_0002\n",
       "88  11475_1001499  11475_1001499_0000  11475_1001499_0001  11475_1001499_0002\n",
       "\n",
       "[89 rows x 4 columns]"
      ]
     },
     "execution_count": 112,
     "metadata": {},
     "output_type": "execute_result"
    }
   ],
   "source": [
    "image_lists = []\n",
    "\n",
    "for labels in labels:\n",
    "    name = getNameFromLabel(labels)\n",
    "    t2w, adc, dwi = getImagesByName(name)\n",
    "\n",
    "    image_list = [name, t2w, adc, dwi]\n",
    "    \n",
    "    image_lists.append(\n",
    "        image_list\n",
    "    )\n",
    "    \n",
    "df = pd.DataFrame(\n",
    "        image_lists,\n",
    "        columns =['label', 'T2W', 'ADC', 'DWI']\n",
    "    )\n",
    "\n",
    "df"
   ]
  },
  {
   "cell_type": "code",
   "execution_count": 113,
   "id": "0c404850",
   "metadata": {},
   "outputs": [],
   "source": [
    "df.to_csv('list_mask_case.csv')"
   ]
  }
 ],
 "metadata": {
  "kernelspec": {
   "display_name": "Python 3 (ipykernel)",
   "language": "python",
   "name": "python3"
  },
  "language_info": {
   "codemirror_mode": {
    "name": "ipython",
    "version": 3
   },
   "file_extension": ".py",
   "mimetype": "text/x-python",
   "name": "python",
   "nbconvert_exporter": "python",
   "pygments_lexer": "ipython3",
   "version": "3.10.6"
  }
 },
 "nbformat": 4,
 "nbformat_minor": 5
}
