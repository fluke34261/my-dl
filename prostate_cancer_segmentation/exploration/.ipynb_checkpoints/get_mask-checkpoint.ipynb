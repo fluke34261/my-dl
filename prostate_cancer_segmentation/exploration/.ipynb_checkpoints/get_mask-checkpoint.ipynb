{
 "cells": [
  {
   "cell_type": "code",
   "execution_count": 3,
   "id": "90f04342",
   "metadata": {},
   "outputs": [],
   "source": [
    "import nibabel as nib\n",
    "import numpy as np\n",
    "import glob as glob"
   ]
  },
  {
   "cell_type": "code",
   "execution_count": 8,
   "id": "a1c66c9a",
   "metadata": {},
   "outputs": [],
   "source": [
    "type_data = 'labels'\n",
    "\n",
    "extract_path = '../extract_data/each_' + type_data + '/*'"
   ]
  }
 ],
 "metadata": {
  "kernelspec": {
   "display_name": "Python 3 (ipykernel)",
   "language": "python",
   "name": "python3"
  },
  "language_info": {
   "codemirror_mode": {
    "name": "ipython",
    "version": 3
   },
   "file_extension": ".py",
   "mimetype": "text/x-python",
   "name": "python",
   "nbconvert_exporter": "python",
   "pygments_lexer": "ipython3",
   "version": "3.10.6"
  }
 },
 "nbformat": 4,
 "nbformat_minor": 5
}
