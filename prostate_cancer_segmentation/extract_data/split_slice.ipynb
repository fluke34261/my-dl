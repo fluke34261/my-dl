{
 "cells": [
  {
   "cell_type": "code",
   "execution_count": 1,
   "id": "53e4ddc5",
   "metadata": {},
   "outputs": [],
   "source": [
    "import nibabel as nib\n",
    "import numpy as np\n",
    "import glob as glob"
   ]
  },
  {
   "cell_type": "code",
   "execution_count": 2,
   "id": "9bd598d2",
   "metadata": {},
   "outputs": [],
   "source": [
    "def readNifti(nifti_file):\n",
    "    img = nib.load(nifti_file)\n",
    "    return img.get_fdata()"
   ]
  },
  {
   "cell_type": "code",
   "execution_count": 19,
   "id": "3c9f72c3",
   "metadata": {},
   "outputs": [],
   "source": [
    "def saveNifti(extract_path, numpy_array, file_name):\n",
    "    ni_img = nib.Nifti1Image(numpy_array, affine=np.eye(4))\n",
    "    \n",
    "    file_name_nii = extract_path  + file_name + \".nii.gz\"\n",
    "    nib.save(ni_img, file_name_nii)"
   ]
  },
  {
   "cell_type": "code",
   "execution_count": 20,
   "id": "96a0449c",
   "metadata": {},
   "outputs": [],
   "source": [
    "def getNiftiName(path ,nifti_file):\n",
    "    return nifti_file.replace(path, \"\").replace(\".nii.gz\", \"\")"
   ]
  },
  {
   "cell_type": "code",
   "execution_count": 1,
   "id": "084097b8",
   "metadata": {},
   "outputs": [],
   "source": [
    "def main(type_data):\n",
    "    root_extract = './'\n",
    "    input_path = root_extract + type_data + '/'\n",
    "    \n",
    "    each_type_path = 'each_' + type_data\n",
    "    extract_path = root_extract + each_type_path + '/'\n",
    "    \n",
    "    nifti_lists = sorted(glob.glob(input_path + '*'))\n",
    "    \n",
    "    for nifti in nifti_lists:\n",
    "        img = readNifti(nifti)\n",
    "        file_name = getNiftiName(input_path, nifti)\n",
    "\n",
    "        for index_img_slice in range(img.shape[2]):\n",
    "            slice_with_index = file_name + '_' + str(index_img_slice)\n",
    "            saveNifti(\n",
    "                        extract_path, \n",
    "                        img[:,:, index_img_slice], \n",
    "                        slice_with_index\n",
    "                     )\n",
    "            \n",
    "    print(type_data + \" done !!!\")"
   ]
  },
  {
   "cell_type": "code",
   "execution_count": 27,
   "id": "cd218f95",
   "metadata": {},
   "outputs": [
    {
     "name": "stdout",
     "output_type": "stream",
     "text": [
      "imagesdone\n"
     ]
    }
   ],
   "source": [
    "main('images')"
   ]
  },
  {
   "cell_type": "code",
   "execution_count": 29,
   "id": "e44fd02e",
   "metadata": {},
   "outputs": [
    {
     "name": "stdout",
     "output_type": "stream",
     "text": [
      "labels done !!!\n"
     ]
    }
   ],
   "source": [
    "main('labels')"
   ]
  }
 ],
 "metadata": {
  "kernelspec": {
   "display_name": "Python 3 (ipykernel)",
   "language": "python",
   "name": "python3"
  },
  "language_info": {
   "codemirror_mode": {
    "name": "ipython",
    "version": 3
   },
   "file_extension": ".py",
   "mimetype": "text/x-python",
   "name": "python",
   "nbconvert_exporter": "python",
   "pygments_lexer": "ipython3",
   "version": "3.10.6"
  }
 },
 "nbformat": 4,
 "nbformat_minor": 5
}
